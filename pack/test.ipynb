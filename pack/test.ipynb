{
 "cells": [
  {
   "cell_type": "code",
   "execution_count": null,
   "metadata": {},
   "outputs": [],
   "source": [
    "import numpy as np\n",
    "import pandas as pd\n",
    "import cv2"
   ]
  },
  {
   "cell_type": "code",
   "execution_count": null,
   "metadata": {},
   "outputs": [],
   "source": [
    "image_path = \"E:/reusable-trash-images/selectstar-reusable-trash-image/3403540.jpg\"\n",
    "\n",
    "image = cv2.imread(image_path, cv2.IMREAD_COLOR)\n",
    "print(image[0][0])\n",
    "image = cv2.cvtColor(image, cv2.COLOR_BGR2RGB)\n",
    "print(image[0][0])"
   ]
  },
  {
   "cell_type": "code",
   "execution_count": null,
   "metadata": {},
   "outputs": [],
   "source": [
    "data = pd.read_csv(\"../data(S1).csv\", index_col=False)\n",
    "data"
   ]
  },
  {
   "cell_type": "code",
   "execution_count": null,
   "metadata": {},
   "outputs": [],
   "source": [
    "temp =data[data['label']=='pack']\n",
    "temp.to_csv(\"../data(S1_pack).csv\", index=False)"
   ]
  },
  {
   "cell_type": "code",
   "execution_count": null,
   "metadata": {},
   "outputs": [],
   "source": [
    "data = pd.read_csv(\"../data(S1_pack).csv\", index_col=False)\n",
    "data"
   ]
  },
  {
   "cell_type": "code",
   "execution_count": null,
   "metadata": {},
   "outputs": [],
   "source": [
    "ratio_list=[]\n",
    "for i in range(len(data.values)):\n",
    "    \n",
    "    name = str(data.values[i][0])\n",
    "    image_path = \"E:/reusable-trash-images/selectstar-reusable-trash-image/\" + name + \".jpg\"\n",
    "    image = cv2.imread(image_path, cv2.IMREAD_COLOR)\n",
    "    x = data.values[i][5]\n",
    "    y = data.values[i][6]\n",
    "    w = data.values[i][7]\n",
    "    h = data.values[i][8]\n",
    "    dx = np.abs(w-x)\n",
    "    dy = np.abs(h-y)\n",
    "    s = dx*dy\n",
    "    size = np.int32(image.size/3)\n",
    "    ratio = s/size*100\n",
    "    print(name,s,size,ratio)\n",
    "    ratio_list.append(ratio)\n",
    "\n"
   ]
  },
  {
   "cell_type": "code",
   "execution_count": null,
   "metadata": {},
   "outputs": [],
   "source": [
    "ratio_list = np.round(ratio_list,2)\n",
    "data['ascept_ratio'] = ratio_list\n",
    "\n",
    "data.to_csv(\"./data(S1_pack_ratio).csv\", index=False)"
   ]
  },
  {
   "cell_type": "code",
   "execution_count": null,
   "metadata": {},
   "outputs": [],
   "source": [
    "image_path = \"E:/reusable-trash-images/selectstar-reusable-trash-image/3404044.jpg\"\n",
    "\n",
    "image= cv2.imread(image_path, cv2.IMREAD_COLOR)\n",
    "image_arr = np.array(image)\n",
    "image_arr.shape"
   ]
  },
  {
   "cell_type": "code",
   "execution_count": null,
   "metadata": {},
   "outputs": [],
   "source": [
    "image_path = \"E:/reusable-trash-images/selectstar-reusable-trash-image/3404044.jpg\"\n",
    "\n",
    "image= cv2.imread(image_path, cv2.IMREAD_COLOR)\n",
    "image = image.astype(np.uint16)"
   ]
  },
  {
   "cell_type": "code",
   "execution_count": null,
   "metadata": {},
   "outputs": [],
   "source": [
    "x= data.values[0][5] # 좌상단 x좌표\n",
    "y= data.values[0][6] # 좌상단 y좌표\n",
    "w= data.values[0][7] # 우하단 x좌표\n",
    "h= data.values[0][8] # 우하단 y좌표\n",
    "\n",
    "image[y:h+1,x:w+1,:]=256\n",
    "bg = image[image[:,:,:]!=256]\n",
    "bg_pixel= np.average(bg.reshape(-1,3),axis=0).round().astype(np.uint8)"
   ]
  },
  {
   "cell_type": "code",
   "execution_count": null,
   "metadata": {},
   "outputs": [],
   "source": [
    "x= data.values[0][5] # 좌상단 x좌표\n",
    "y= data.values[0][6] # 좌상단 y좌표\n",
    "w= data.values[0][7] # 우하단 x좌표\n",
    "h= data.values[0][8] # 우하단 y좌표\n",
    "\n",
    "image[y:h+1,x:w+1,:]=256\n",
    "bg = image[image[:,:,:]!=256]\n",
    "bg_pixel= np.average(bg.reshape(-1,3),axis=0).round().astype(np.uint8)"
   ]
  },
  {
   "cell_type": "code",
   "execution_count": null,
   "metadata": {},
   "outputs": [],
   "source": [
    "BgMeanR = []\n",
    "BgMeanG = []\n",
    "BgMeanB = []\n",
    "\n",
    "for i in range(len(data.values)):\n",
    "    print(f\"{i}번째 진행 중\")\n",
    "    image_path = \"E:/reusable-trash-images/selectstar-reusable-trash-image/\"\n",
    "    name = str(data.values[i][0])\n",
    "    path = image_path + name + \".jpg\"\n",
    "    image= cv2.imread(path, cv2.IMREAD_COLOR)\n",
    "    image = image.astype(np.uint16)\n",
    "    x = data.values[i][5] # 좌상단 x좌표\n",
    "    y = data.values[i][6] # 좌상단 y좌표\n",
    "    w = data.values[i][7] # 우하단 x좌표\n",
    "    h = data.values[i][8] # 우하단 y좌표\n",
    "    image[y:h+1,x:w+1,:]=256\n",
    "    e_temp = np.average(image[image[:,:,:]!=256].reshape(-1,3),axis=0).round().astype(np.uint8)\n",
    "    BgMeanR.append(e_temp[0])\n",
    "    BgMeanG.append(e_temp[1])\n",
    "    BgMeanB.append(e_temp[2])"
   ]
  },
  {
   "cell_type": "code",
   "execution_count": null,
   "metadata": {},
   "outputs": [],
   "source": [
    "data['BgMeanR'] = BgMeanR\n",
    "data['BgMeanG'] = BgMeanG\n",
    "data['BgMeanB'] = BgMeanB\n",
    "\n",
    "data.to_csv('./data(S1_pack_Done).csv', index=False)"
   ]
  },
  {
   "cell_type": "code",
   "execution_count": null,
   "metadata": {},
   "outputs": [],
   "source": []
  }
 ],
 "metadata": {
  "language_info": {
   "name": "python"
  },
  "orig_nbformat": 4
 },
 "nbformat": 4,
 "nbformat_minor": 2
}
