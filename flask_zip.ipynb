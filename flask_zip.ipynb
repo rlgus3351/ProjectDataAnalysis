{
 "cells": [
  {
   "cell_type": "code",
   "execution_count": 41,
   "metadata": {},
   "outputs": [],
   "source": [
    "from flask import Flask, request, jsonify, Response\n",
    "from flask_cors import CORS\n",
    "import zipfile\n",
    "from zipfile import ZipFile\n",
    "import os\n",
    "import json\n",
    "import pandas as pd\n",
    "import numpy as np"
   ]
  },
  {
   "cell_type": "code",
   "execution_count": 46,
   "metadata": {},
   "outputs": [],
   "source": [
    "# 폴더안에있는 Json파일 전부\n",
    "def jsonzip(od_path):\n",
    "    with zipfile.ZipFile(od_path, 'r') as obj:\n",
    "        obj.namelist()\t\t# zip파일 내의 파일 이름을 가진 list 반환\n",
    "        obj.extractall(\"C:/datazip/\")\n",
    "\n",
    " \n",
    "def dataframe(od_path) :\n",
    "    temp = od_path\n",
    "    path = temp.split(\".\")[0]\n",
    "    filename = od_path.split(\"/\")[2].split(\".\")[0]\n",
    "    list = os.listdir(path)\n",
    "    json_file_list = [path+'/'+ file for file in list if file.endswith('.json')]\n",
    "    \n",
    "    imagePath = [] #이미지 파일명 저장 리스트\n",
    "    label=[] #분류 라벨 값 저장 리스트\n",
    "    points_1_x=[] #boundary box x,y좌표 리스트\n",
    "    points_1_y=[] #boundary box x,y좌표 리스트\n",
    "    points_2_x=[] #boundary box x,y좌표 리스트\n",
    "    points_2_y=[] #boundary box x,y좌표 리스트\n",
    "    errorFile =[] #에러 파일 검출 리스트\n",
    "    shapes_list = [] \n",
    "    imageHeight = []\n",
    "    imageWidth = []\n",
    "    ratio = []\n",
    "\n",
    "    for i in json_file_list: #json_file_list의 하나의 인덱스 마다 i라는 변수로 사용한다.\n",
    "        with open(i,'r') as j: #\n",
    "            try:\n",
    "                contents=json.loads(j.read())  # open : r - 읽기모드, w-쓰기모드, a-추가모드\n",
    "                for k in range(len(contents['shapes'])): # contents라는 json객체 안에 여러 객체가 있을 경우를 대비해 반복문안에 shapes의 길이로 반복한다\n",
    "                                                        # shapes의 내용이 2개면 2번 반복하는 형태 --> 변수는 k사용\n",
    "                    print(contents['shapes'][k]) # 결과 확인 및 데이터 확인                 \n",
    "                    shapes_list.append(len(contents['shapes']))\n",
    "                    imagePath.append(str((contents['imagePath']).replace('.jpg',\"\"))) # 따로 구별하는 변수가 없어서 이미지 경로에 확장자만 제거하여 사용\n",
    "                    label.append(contents['shapes'][k]['label']) # label은 분리수거 되는 분류 클래스로 shapes->label 키 값으로 접근\n",
    "                    points_1_x.append(contents['shapes'][k]['points'][0][0])\n",
    "                    points_1_y.append(contents['shapes'][k]['points'][0][1])\n",
    "                    points_2_x.append(contents['shapes'][k]['points'][1][0])\n",
    "                    points_2_y.append(contents['shapes'][k]['points'][1][1])\n",
    "                    imageHeight.append(contents['imageHeight'])\n",
    "                    imageWidth.append(contents['imageWidth'])\n",
    "            except:\n",
    "                errorFile.append(i) # 크기가 0이거나, 파일 불러올 때 오류를 유발하는 파일명 errorFile리스트에 담는다.\n",
    "\n",
    "    # 데이터 프레임 만들기\n",
    "    # 딕셔너리 형태로 리스트를 묶어서 넣어준다.\n",
    "    points_1_x=np.round(points_1_x).astype('int')\n",
    "    points_1_y=np.round(points_1_y).astype('int')\n",
    "    points_2_x=np.round(points_2_x).astype('int')\n",
    "    points_2_y=np.round(points_2_y).astype('int')\n",
    "    for i in range(len(imagePath)) :\n",
    "        ratio.append((((points_2_x[i] - points_1_x[i])* (points_2_y[i] - points_1_y[i]))/( imageHeight[i] * imageWidth[i]))*100)\n",
    "        print(\"Ratio for image\", imagePath[i], \":\", ratio)\n",
    "\n",
    "    ratio=np.round(ratio,2)\n",
    "\n",
    "    data=pd.DataFrame({\"imagePath\":imagePath,\n",
    "                        \"label\":label,\n",
    "                        \"Shape_num\":shapes_list,\n",
    "                        \"point1_x\":points_1_x,\n",
    "                        \"point1_y\":points_1_y,\n",
    "                        \"point2_x\":points_2_x,\n",
    "                        \"point2_y\":points_2_y,\n",
    "                        \"imageHeight\":imageHeight,\n",
    "                        \"imageWidth\":imageWidth,\n",
    "                        \"ratio\" : ratio\n",
    "                        })\n",
    "    data.to_csv(f\"{path}/{filename}.csv\",index=False)\n",
    "    return f\"{path}/{filename}.csv\""
   ]
  },
  {
   "cell_type": "code",
   "execution_count": 58,
   "metadata": {},
   "outputs": [],
   "source": [
    "data = pd.read_csv(\"C:/datazip/testzip/testzip.csv\", index_col=False)\n"
   ]
  },
  {
   "cell_type": "code",
   "execution_count": 59,
   "metadata": {},
   "outputs": [],
   "source": [
    "data['imagePath'] = data['imagePath'].astype(\"object\")"
   ]
  },
  {
   "cell_type": "code",
   "execution_count": 60,
   "metadata": {},
   "outputs": [
    {
     "name": "stdout",
     "output_type": "stream",
     "text": [
      "<class 'pandas.core.frame.DataFrame'>\n",
      "RangeIndex: 3 entries, 0 to 2\n",
      "Data columns (total 10 columns):\n",
      " #   Column       Non-Null Count  Dtype  \n",
      "---  ------       --------------  -----  \n",
      " 0   imagePath    3 non-null      object \n",
      " 1   label        3 non-null      object \n",
      " 2   Shape_num    3 non-null      int64  \n",
      " 3   point1_x     3 non-null      int64  \n",
      " 4   point1_y     3 non-null      int64  \n",
      " 5   point2_x     3 non-null      int64  \n",
      " 6   point2_y     3 non-null      int64  \n",
      " 7   imageHeight  3 non-null      int64  \n",
      " 8   imageWidth   3 non-null      int64  \n",
      " 9   ratio        3 non-null      float64\n",
      "dtypes: float64(1), int64(7), object(2)\n",
      "memory usage: 368.0+ bytes\n"
     ]
    }
   ],
   "source": [
    "data.info()"
   ]
  },
  {
   "cell_type": "code",
   "execution_count": null,
   "metadata": {},
   "outputs": [],
   "source": [
    "import pandas as pd \n",
    "import pymysql \n",
    "import matplotlib.pyplot as plt \n",
    "%matplotlib inline \n",
    "import seaborn as sns \n",
    "\n",
    "# C:/datazip/testzip.zip\n",
    "def file_db(od_path) : \n",
    "\n",
    "    conn = pymysql.connect(host='project-db-cgi.smhrd.com',port=3307, user = 'cgi_3_230524_1', password='smhrd1', db = 'cgi_3_230524_1',charset = 'utf8') \n",
    "    curs = conn.cursor(pymysql.cursors.DictCursor)\n",
    "\n",
    "\n",
    "    path = str(od_path.split(\".\")[0])\n",
    "    table_name = str(od_path.split(\"/\")[2].split(\".\")[0])\n",
    "    \n",
    "    sql = f'''CREATE TABLE {table_name}_table( \n",
    "    num int(15) not null auto_increment primary key,\n",
    "    imagePath varchar(500) not null, \n",
    "    label varchar(500) not null , \n",
    "    Shape_num  int(15) not null ,\n",
    "    point1_x int(15) not null ,\n",
    "    point1_y int(15) not null ,\n",
    "    point2_x int(15) not null ,\n",
    "    point2_y int(15) not null ,\n",
    "    imageHeight int(15) not null ,\n",
    "    imageWidth int(15) not null ,\n",
    "    ratio int(15) not null\n",
    "    ) \n",
    "    ''' \n",
    "    curs.execute(sql) \n",
    "\n",
    "    stores_info = pd.read_csv(f\"{path}/{table_name}.csv\" ,index_col=False)\n",
    "\n",
    "    for index, row in stores_info.iterrows():\n",
    "        tu = (\n",
    "            row.num,\n",
    "            row.imagePath,\n",
    "            row.label,\n",
    "            int(row.Shape_num),\n",
    "            float(row.point1_x),\n",
    "            float(row.point1_y),\n",
    "            float(row.point2_x),\n",
    "            float(row.point2_y),\n",
    "            int(row.imageHeight),\n",
    "            int(row.imageWidth),\n",
    "            float(row.ratio)\n",
    "        )\n",
    "        curs.execute(\n",
    "            f\"\"\"INSERT IGNORE INTO {table_name}_table (num, imagePath, label, Shape_num, point1_x, point1_y, point2_x, point2_y, imageHeight, imageWidth, ratio) VALUES (%s, %s, %s, %s, %s, %s, %s, %s, %s, %s,%s)\"\"\",\n",
    "            tu\n",
    "        )\n",
    "        \n",
    "    # 결과 저장 및 데이터베이스 종료\n",
    "    conn.commit()\n",
    "    conn.close()"
   ]
  },
  {
   "cell_type": "code",
   "execution_count": 61,
   "metadata": {},
   "outputs": [
    {
     "name": "stdout",
     "output_type": "stream",
     "text": [
      " * Serving Flask app '__main__' (lazy loading)\n",
      " * Environment: production\n",
      "\u001b[31m   WARNING: This is a development server. Do not use it in a production deployment.\u001b[0m\n",
      "\u001b[2m   Use a production WSGI server instead.\u001b[0m\n",
      " * Debug mode: off\n"
     ]
    },
    {
     "name": "stderr",
     "output_type": "stream",
     "text": [
      "WARNING: This is a development server. Do not use it in a production deployment. Use a production WSGI server instead.\n",
      " * Running on http://127.0.0.1:5000\n",
      "Press CTRL+C to quit\n",
      "127.0.0.1 - - [07/Jun/2023 21:14:13] \"POST /test HTTP/1.1\" 200 -\n"
     ]
    },
    {
     "name": "stdout",
     "output_type": "stream",
     "text": [
      "C:/datazip/testzip.zip\n",
      "{'label': 'pack', 'points': [[926.4466239999999, 1682.1], [1247.866464, 2283.7510079999997]], 'group_id': None, 'shape_type': 'rectangle', 'flags': {}}\n",
      "{'label': 'pack', 'points': [[920.1440959999999, 1543.5], [1462.147872, 1968.751008]], 'group_id': None, 'shape_type': 'rectangle', 'flags': {}}\n",
      "{'label': 'pack', 'points': [[891.78272, 1890.0020160000001], [1317.192, 2447.5510080000004]], 'group_id': None, 'shape_type': 'rectangle', 'flags': {}}\n",
      "Ratio for image 3403540 : [2.116038243348983]\n",
      "Ratio for image 3403580 : [2.116038243348983, 2.5145447336798568]\n",
      "Ratio for image 3403580 : [2.116038243348983, 2.5145447336798568, 2.5887748365191148]\n",
      "C:/datazip/testzip/testzip.csv\n"
     ]
    },
    {
     "name": "stderr",
     "output_type": "stream",
     "text": [
      "127.0.0.1 - - [07/Jun/2023 21:14:22] \"POST /test HTTP/1.1\" 200 -\n"
     ]
    },
    {
     "name": "stdout",
     "output_type": "stream",
     "text": [
      "C:/datazip/testzip.zip\n",
      "{'label': 'pack', 'points': [[926.4466239999999, 1682.1], [1247.866464, 2283.7510079999997]], 'group_id': None, 'shape_type': 'rectangle', 'flags': {}}\n",
      "{'label': 'pack', 'points': [[920.1440959999999, 1543.5], [1462.147872, 1968.751008]], 'group_id': None, 'shape_type': 'rectangle', 'flags': {}}\n",
      "{'label': 'pack', 'points': [[891.78272, 1890.0020160000001], [1317.192, 2447.5510080000004]], 'group_id': None, 'shape_type': 'rectangle', 'flags': {}}\n",
      "Ratio for image 3403540 : [2.116038243348983]\n",
      "Ratio for image 3403580 : [2.116038243348983, 2.5145447336798568]\n",
      "Ratio for image 3403580 : [2.116038243348983, 2.5145447336798568, 2.5887748365191148]\n",
      "C:/datazip/testzip/testzip.csv\n"
     ]
    },
    {
     "name": "stderr",
     "output_type": "stream",
     "text": [
      "127.0.0.1 - - [07/Jun/2023 21:16:27] \"POST /test HTTP/1.1\" 200 -\n"
     ]
    },
    {
     "name": "stdout",
     "output_type": "stream",
     "text": [
      "C:/datazip/testzip.zip\n",
      "{'label': 'pack', 'points': [[926.4466239999999, 1682.1], [1247.866464, 2283.7510079999997]], 'group_id': None, 'shape_type': 'rectangle', 'flags': {}}\n",
      "{'label': 'pack', 'points': [[920.1440959999999, 1543.5], [1462.147872, 1968.751008]], 'group_id': None, 'shape_type': 'rectangle', 'flags': {}}\n",
      "{'label': 'pack', 'points': [[891.78272, 1890.0020160000001], [1317.192, 2447.5510080000004]], 'group_id': None, 'shape_type': 'rectangle', 'flags': {}}\n",
      "Ratio for image 3403540 : [2.116038243348983]\n",
      "Ratio for image 3403580 : [2.116038243348983, 2.5145447336798568]\n",
      "Ratio for image 3403580 : [2.116038243348983, 2.5145447336798568, 2.5887748365191148]\n",
      "C:/datazip/testzip/testzip.csv\n"
     ]
    },
    {
     "name": "stderr",
     "output_type": "stream",
     "text": [
      "127.0.0.1 - - [07/Jun/2023 21:17:19] \"POST /test HTTP/1.1\" 200 -\n"
     ]
    },
    {
     "name": "stdout",
     "output_type": "stream",
     "text": [
      "C:/datazip/testzip.zip\n",
      "{'label': 'pack', 'points': [[926.4466239999999, 1682.1], [1247.866464, 2283.7510079999997]], 'group_id': None, 'shape_type': 'rectangle', 'flags': {}}\n",
      "{'label': 'pack', 'points': [[920.1440959999999, 1543.5], [1462.147872, 1968.751008]], 'group_id': None, 'shape_type': 'rectangle', 'flags': {}}\n",
      "{'label': 'pack', 'points': [[891.78272, 1890.0020160000001], [1317.192, 2447.5510080000004]], 'group_id': None, 'shape_type': 'rectangle', 'flags': {}}\n",
      "Ratio for image 3403540 : [2.116038243348983]\n",
      "Ratio for image 3403580 : [2.116038243348983, 2.5145447336798568]\n",
      "Ratio for image 3403580 : [2.116038243348983, 2.5145447336798568, 2.5887748365191148]\n",
      "C:/datazip/testzip/testzip.csv\n"
     ]
    },
    {
     "name": "stderr",
     "output_type": "stream",
     "text": [
      "127.0.0.1 - - [07/Jun/2023 21:18:19] \"POST /test HTTP/1.1\" 200 -\n"
     ]
    },
    {
     "name": "stdout",
     "output_type": "stream",
     "text": [
      "C:/datazip/testzip.zip\n",
      "{'label': 'pack', 'points': [[926.4466239999999, 1682.1], [1247.866464, 2283.7510079999997]], 'group_id': None, 'shape_type': 'rectangle', 'flags': {}}\n",
      "{'label': 'pack', 'points': [[920.1440959999999, 1543.5], [1462.147872, 1968.751008]], 'group_id': None, 'shape_type': 'rectangle', 'flags': {}}\n",
      "{'label': 'pack', 'points': [[891.78272, 1890.0020160000001], [1317.192, 2447.5510080000004]], 'group_id': None, 'shape_type': 'rectangle', 'flags': {}}\n",
      "Ratio for image 3403540 : [2.116038243348983]\n",
      "Ratio for image 3403580 : [2.116038243348983, 2.5145447336798568]\n",
      "Ratio for image 3403580 : [2.116038243348983, 2.5145447336798568, 2.5887748365191148]\n",
      "C:/datazip/testzip/testzip.csv\n"
     ]
    }
   ],
   "source": [
    "# 플라스크 실행 코드\n",
    "\n",
    "app = Flask(__name__)\n",
    "CORS(app)\n",
    "\n",
    "# 클릭했을때 반환해주는거잖아\n",
    "@app.route('/test', methods=['POST'])\n",
    "def handle_ajax_request():\n",
    "    od_path = request.form.get('od_path')  # Ajax 요청에서 'od_path' 값을 가져옵니다.\n",
    "    print(od_path)\n",
    "\n",
    "    jsonzip(od_path)\n",
    "    path = dataframe(od_path)\n",
    "    # 응답을 반환합니다.\n",
    "\n",
    "    data =pd.read_csv(path,index_col=False)\n",
    "    data['imagePath'] = data['imagePath'].astype(\"object\")\n",
    "    print(path)\n",
    "    # response = data.to_json(date_format=\"cp949\", orient='index', indent=4)\n",
    "    # param = response.get_json()\n",
    "    # return jsonify(data.to_dict())\n",
    "    return Response(data.to_json(orient=\"records\"), mimetype='application/json')\n",
    "\n",
    "if __name__ == '__main__':\n",
    "    app.run()"
   ]
  }
 ],
 "metadata": {
  "kernelspec": {
   "display_name": "Python 3",
   "language": "python",
   "name": "python3"
  },
  "language_info": {
   "codemirror_mode": {
    "name": "ipython",
    "version": 3
   },
   "file_extension": ".py",
   "mimetype": "text/x-python",
   "name": "python",
   "nbconvert_exporter": "python",
   "pygments_lexer": "ipython3",
   "version": "3.11.1"
  },
  "orig_nbformat": 4
 },
 "nbformat": 4,
 "nbformat_minor": 2
}
