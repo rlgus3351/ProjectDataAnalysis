{
 "cells": [
  {
   "cell_type": "code",
   "execution_count": 1,
   "metadata": {},
   "outputs": [],
   "source": [
    "import numpy as np\n",
    "import pandas as pd\n",
    "import matplotlib.pyplot as plt"
   ]
  },
  {
   "cell_type": "code",
   "execution_count": 2,
   "metadata": {},
   "outputs": [],
   "source": [
    "can=pd.read_csv('./can.csv', index_col=False)\n",
    "glass=pd.read_csv('./glass.csv', index_col=False)\n",
    "pack=pd.read_csv('./pack.csv', index_col=False)\n",
    "paper=pd.read_csv('./paper.csv', index_col=False)\n",
    "pet=pd.read_csv('./pet.csv', index_col=False)\n",
    "plastic=pd.read_csv('./plastic.csv', index_col=False)\n",
    "vinyl=pd.read_csv('./vinyl.csv', index_col=False)\n"
   ]
  },
  {
   "cell_type": "code",
   "execution_count": 3,
   "metadata": {},
   "outputs": [
    {
     "name": "stdout",
     "output_type": "stream",
     "text": [
      "RangeIndex(start=0, stop=200, step=1)\n",
      "RangeIndex(start=0, stop=200, step=1)\n",
      "RangeIndex(start=0, stop=200, step=1)\n",
      "RangeIndex(start=0, stop=200, step=1)\n",
      "RangeIndex(start=0, stop=200, step=1)\n",
      "RangeIndex(start=0, stop=200, step=1)\n",
      "RangeIndex(start=0, stop=200, step=1)\n"
     ]
    }
   ],
   "source": [
    "print(can.index)\n",
    "print(pet.index)\n",
    "print(plastic.index)\n",
    "print(paper.index)\n",
    "print(glass.index)\n",
    "print(pack.index)\n",
    "print(vinyl.index)"
   ]
  },
  {
   "cell_type": "code",
   "execution_count": 23,
   "metadata": {},
   "outputs": [],
   "source": [
    "can_train = can.loc[:159]\n",
    "can_valid = can.loc[160:179]\n",
    "can_test = can.loc[180:]"
   ]
  },
  {
   "cell_type": "code",
   "execution_count": 21,
   "metadata": {},
   "outputs": [
    {
     "data": {
      "text/html": [
       "<div>\n",
       "<style scoped>\n",
       "    .dataframe tbody tr th:only-of-type {\n",
       "        vertical-align: middle;\n",
       "    }\n",
       "\n",
       "    .dataframe tbody tr th {\n",
       "        vertical-align: top;\n",
       "    }\n",
       "\n",
       "    .dataframe thead th {\n",
       "        text-align: right;\n",
       "    }\n",
       "</style>\n",
       "<table border=\"1\" class=\"dataframe\">\n",
       "  <thead>\n",
       "    <tr style=\"text-align: right;\">\n",
       "      <th></th>\n",
       "      <th>imagePath</th>\n",
       "      <th>label</th>\n",
       "      <th>Shape_num</th>\n",
       "      <th>width</th>\n",
       "      <th>height</th>\n",
       "      <th>point1_x</th>\n",
       "      <th>point1_y</th>\n",
       "      <th>point2_x</th>\n",
       "      <th>point2_y</th>\n",
       "      <th>ascept_ratio</th>\n",
       "      <th>BgMeanR</th>\n",
       "      <th>BgMeanG</th>\n",
       "      <th>BgMeanB</th>\n",
       "    </tr>\n",
       "  </thead>\n",
       "  <tbody>\n",
       "    <tr>\n",
       "      <th>155</th>\n",
       "      <td>4147650</td>\n",
       "      <td>can</td>\n",
       "      <td>1</td>\n",
       "      <td>2268</td>\n",
       "      <td>4032</td>\n",
       "      <td>983</td>\n",
       "      <td>1581</td>\n",
       "      <td>1481</td>\n",
       "      <td>2255</td>\n",
       "      <td>3.67</td>\n",
       "      <td>158</td>\n",
       "      <td>156</td>\n",
       "      <td>152</td>\n",
       "    </tr>\n",
       "    <tr>\n",
       "      <th>156</th>\n",
       "      <td>4172223</td>\n",
       "      <td>can</td>\n",
       "      <td>1</td>\n",
       "      <td>2268</td>\n",
       "      <td>4032</td>\n",
       "      <td>772</td>\n",
       "      <td>1377</td>\n",
       "      <td>1512</td>\n",
       "      <td>2479</td>\n",
       "      <td>8.92</td>\n",
       "      <td>155</td>\n",
       "      <td>154</td>\n",
       "      <td>152</td>\n",
       "    </tr>\n",
       "    <tr>\n",
       "      <th>157</th>\n",
       "      <td>4188504</td>\n",
       "      <td>can</td>\n",
       "      <td>1</td>\n",
       "      <td>2268</td>\n",
       "      <td>4032</td>\n",
       "      <td>1090</td>\n",
       "      <td>1755</td>\n",
       "      <td>1351</td>\n",
       "      <td>2722</td>\n",
       "      <td>2.76</td>\n",
       "      <td>155</td>\n",
       "      <td>151</td>\n",
       "      <td>143</td>\n",
       "    </tr>\n",
       "    <tr>\n",
       "      <th>158</th>\n",
       "      <td>4188510</td>\n",
       "      <td>can</td>\n",
       "      <td>1</td>\n",
       "      <td>2268</td>\n",
       "      <td>4032</td>\n",
       "      <td>973</td>\n",
       "      <td>1575</td>\n",
       "      <td>1263</td>\n",
       "      <td>2574</td>\n",
       "      <td>3.17</td>\n",
       "      <td>168</td>\n",
       "      <td>165</td>\n",
       "      <td>158</td>\n",
       "    </tr>\n",
       "    <tr>\n",
       "      <th>159</th>\n",
       "      <td>4188547</td>\n",
       "      <td>can</td>\n",
       "      <td>1</td>\n",
       "      <td>2268</td>\n",
       "      <td>4032</td>\n",
       "      <td>983</td>\n",
       "      <td>1506</td>\n",
       "      <td>1247</td>\n",
       "      <td>2703</td>\n",
       "      <td>3.46</td>\n",
       "      <td>155</td>\n",
       "      <td>150</td>\n",
       "      <td>142</td>\n",
       "    </tr>\n",
       "  </tbody>\n",
       "</table>\n",
       "</div>"
      ],
      "text/plain": [
       "    imagePath label  Shape_num  width  height  point1_x  point1_y  point2_x  \\\n",
       "155   4147650   can          1   2268    4032       983      1581      1481   \n",
       "156   4172223   can          1   2268    4032       772      1377      1512   \n",
       "157   4188504   can          1   2268    4032      1090      1755      1351   \n",
       "158   4188510   can          1   2268    4032       973      1575      1263   \n",
       "159   4188547   can          1   2268    4032       983      1506      1247   \n",
       "\n",
       "     point2_y  ascept_ratio  BgMeanR  BgMeanG  BgMeanB  \n",
       "155      2255          3.67      158      156      152  \n",
       "156      2479          8.92      155      154      152  \n",
       "157      2722          2.76      155      151      143  \n",
       "158      2574          3.17      168      165      158  \n",
       "159      2703          3.46      155      150      142  "
      ]
     },
     "execution_count": 21,
     "metadata": {},
     "output_type": "execute_result"
    }
   ],
   "source": [
    "can_train.tail()"
   ]
  },
  {
   "cell_type": "code",
   "execution_count": 26,
   "metadata": {},
   "outputs": [],
   "source": [
    "can_train = can.loc[:159]\n",
    "can_valid = can.loc[160:179]\n",
    "can_test = can.loc[180:]\n",
    "\n",
    "pet_train = pet.loc[:159]\n",
    "pet_valid = pet.loc[160:179]\n",
    "pet_test = pet.loc[180:]\n",
    "\n",
    "plastic_train = plastic.loc[:159]\n",
    "plastic_valid = plastic.loc[160:179]\n",
    "plastic_test = plastic.loc[180:]\n",
    "\n",
    "paper_train = paper.loc[:159]\n",
    "paper_valid = paper.loc[160:179]\n",
    "paper_test = paper.loc[180:]\n",
    "\n",
    "glass_train = glass.loc[:159]\n",
    "glass_valid = glass.loc[160:179]\n",
    "glass_test = glass.loc[180:]\n",
    "\n",
    "pack_train = pack.loc[:159]\n",
    "pack_valid = pack.loc[160:179]\n",
    "pack_test = pack.loc[180:]\n",
    "\n",
    "vinyl_train = vinyl.loc[:159]\n",
    "vinyl_valid = vinyl.loc[160:179]\n",
    "vinyl_test = vinyl.loc[180:]"
   ]
  },
  {
   "cell_type": "code",
   "execution_count": 27,
   "metadata": {},
   "outputs": [],
   "source": [
    "train = pd.concat([can_train,glass_train,pack_train,paper_train,pet_train,plastic_train,vinyl_train], axis=0)\n",
    "valid = pd.concat([can_valid,glass_valid,pack_valid,paper_valid,pet_valid,plastic_valid,vinyl_valid], axis=0)\n",
    "test = pd.concat([can_test,glass_test,pack_test,paper_test,pet_test,plastic_test,vinyl_test], axis=0)"
   ]
  },
  {
   "cell_type": "code",
   "execution_count": 33,
   "metadata": {},
   "outputs": [
    {
     "data": {
      "text/plain": [
       "can        160\n",
       "glass      160\n",
       "pack       160\n",
       "paper      160\n",
       "pet        160\n",
       "plastic    160\n",
       "vinyl      160\n",
       "Name: label, dtype: int64"
      ]
     },
     "execution_count": 33,
     "metadata": {},
     "output_type": "execute_result"
    }
   ],
   "source": [
    "train['label'].value_counts()"
   ]
  },
  {
   "cell_type": "code",
   "execution_count": 32,
   "metadata": {},
   "outputs": [
    {
     "data": {
      "text/plain": [
       "can        20\n",
       "glass      20\n",
       "pack       20\n",
       "paper      20\n",
       "pet        20\n",
       "plastic    20\n",
       "vinyl      20\n",
       "Name: label, dtype: int64"
      ]
     },
     "execution_count": 32,
     "metadata": {},
     "output_type": "execute_result"
    }
   ],
   "source": [
    "valid['label'].value_counts()"
   ]
  },
  {
   "cell_type": "code",
   "execution_count": 31,
   "metadata": {},
   "outputs": [
    {
     "data": {
      "text/plain": [
       "can        20\n",
       "glass      20\n",
       "pack       20\n",
       "paper      20\n",
       "pet        20\n",
       "plastic    20\n",
       "vinyl      20\n",
       "Name: label, dtype: int64"
      ]
     },
     "execution_count": 31,
     "metadata": {},
     "output_type": "execute_result"
    }
   ],
   "source": [
    "test['label'].value_counts()"
   ]
  },
  {
   "cell_type": "code",
   "execution_count": 34,
   "metadata": {},
   "outputs": [],
   "source": [
    "train.to_csv('./train530.csv', index=False)\n",
    "valid.to_csv('./valid530.csv', index=False)\n",
    "test.to_csv('./test530.csv', index=False)"
   ]
  }
 ],
 "metadata": {
  "kernelspec": {
   "display_name": "Python 3",
   "language": "python",
   "name": "python3"
  },
  "language_info": {
   "codemirror_mode": {
    "name": "ipython",
    "version": 3
   },
   "file_extension": ".py",
   "mimetype": "text/x-python",
   "name": "python",
   "nbconvert_exporter": "python",
   "pygments_lexer": "ipython3",
   "version": "3.11.1"
  },
  "orig_nbformat": 4
 },
 "nbformat": 4,
 "nbformat_minor": 2
}
