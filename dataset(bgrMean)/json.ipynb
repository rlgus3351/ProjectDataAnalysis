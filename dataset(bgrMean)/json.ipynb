{
 "cells": [
  {
   "cell_type": "code",
   "execution_count": 2,
   "metadata": {},
   "outputs": [],
   "source": [
    "import numpy as np\n",
    "import pandas as pd\n",
    "import matplotlib.pyplot as plt\n",
    "import cv2\n"
   ]
  },
  {
   "cell_type": "code",
   "execution_count": 3,
   "metadata": {},
   "outputs": [],
   "source": [
    "train=pd.read_csv(\"./train.csv\", index_col=False)\n",
    "test=pd.read_csv(\"./test.csv\", index_col=False)\n"
   ]
  },
  {
   "cell_type": "code",
   "execution_count": 4,
   "metadata": {},
   "outputs": [],
   "source": [
    "def ratio_cal(dx,dy,size):\n",
    "    area = (dx*dy)/size\n",
    "    x = int(np.sqrt(area*(dx/dy)).round())\n",
    "    y = int(((dy/dx)*x).round())\n",
    "    return x,y"
   ]
  },
  {
   "cell_type": "code",
   "execution_count": 5,
   "metadata": {},
   "outputs": [],
   "source": [
    "def make_points(array):\n",
    "    x1 = array[5]\n",
    "    y1 = array[6]\n",
    "    x2 = array[7]\n",
    "    y2 = array[8]\n",
    "    dx = np.abs(x2-x1)\n",
    "    dy = np.abs(y2-y1)\n",
    "    image = str(array[0])\n",
    "    return x1,y1,x2,y2,dx,dy,image"
   ]
  },
  {
   "cell_type": "code",
   "execution_count": 18,
   "metadata": {},
   "outputs": [
    {
     "data": {
      "text/plain": [
       "array([3404444, 'plastic', 1, 2268, 4032, 778, 1572, 1433, 2255, 4.89,\n",
       "       157, 151, 143], dtype=object)"
      ]
     },
     "execution_count": 18,
     "metadata": {},
     "output_type": "execute_result"
    }
   ],
   "source": [
    "train.values[0]"
   ]
  },
  {
   "cell_type": "code",
   "execution_count": 20,
   "metadata": {},
   "outputs": [
    {
     "name": "stdout",
     "output_type": "stream",
     "text": [
      "자른 이미지 높이 1365\n",
      "자른 이미지 너비 1309\n",
      "451 1231\n",
      "1760 2596\n",
      "327 341\n",
      "982 1024\n"
     ]
    }
   ],
   "source": [
    "imagePath = \"F:/reusable-trash-images/selectstar-reusable-trash-image/\"\n",
    "x1,y1,x2,y2,dx,dy,image = make_points(train.values[0])\n",
    "path = imagePath + image +\".jpg\"\n",
    "dx2, dy2 =ratio_cal(dx,dy,0.25)\n",
    "delta_x =int((dx2-dx)/2)\n",
    "delta_y =int((dy2-dy)/2)\n",
    "pt1_x = x1-delta_x\n",
    "pt1_y = y1-delta_y\n",
    "pt2_x = x2+delta_x\n",
    "pt2_y = y2+delta_y\n",
    "\n",
    "img = cv2.imread(path, cv2.IMREAD_COLOR)\n",
    "roi = img[pt1_y:pt2_y,pt1_x:pt2_x]\n",
    "print(\"자른 이미지 높이\",roi.shape[0])\n",
    "print(\"자른 이미지 너비\",roi.shape[1])\n",
    "print(pt1_x, pt1_y)\n",
    "print(pt2_x, pt2_y)\n",
    "print(x1-pt1_x, y1-pt1_y)\n",
    "print(x1-pt1_x+(x2-x1), y1-pt1_y+(y2-y1))"
   ]
  },
  {
   "cell_type": "code",
   "execution_count": 25,
   "metadata": {},
   "outputs": [
    {
     "data": {
      "text/plain": [
       "array([3404444, 'plastic', 1, 2268, 4032, 778, 1572, 1433, 2255, 4.89,\n",
       "       157, 151, 143], dtype=object)"
      ]
     },
     "execution_count": 25,
     "metadata": {},
     "output_type": "execute_result"
    }
   ],
   "source": [
    "train.values[0]"
   ]
  },
  {
   "cell_type": "code",
   "execution_count": 26,
   "metadata": {},
   "outputs": [
    {
     "ename": "NameError",
     "evalue": "name 'i' is not defined",
     "output_type": "error",
     "traceback": [
      "\u001b[1;31m---------------------------------------------------------------------------\u001b[0m",
      "\u001b[1;31mNameError\u001b[0m                                 Traceback (most recent call last)",
      "Cell \u001b[1;32mIn[26], line 6\u001b[0m\n\u001b[0;32m      1\u001b[0m \u001b[39mdict\u001b[39m \u001b[39m=\u001b[39m {\n\u001b[0;32m      2\u001b[0m     \u001b[39m\"\u001b[39m\u001b[39mversion\u001b[39m\u001b[39m\"\u001b[39m: \u001b[39m\"\u001b[39m\u001b[39m4.5.10\u001b[39m\u001b[39m\"\u001b[39m,\n\u001b[0;32m      3\u001b[0m     \u001b[39m\"\u001b[39m\u001b[39mflags\u001b[39m\u001b[39m\"\u001b[39m: {},\n\u001b[0;32m      4\u001b[0m     \u001b[39m\"\u001b[39m\u001b[39mshapes\u001b[39m\u001b[39m\"\u001b[39m: [\n\u001b[0;32m      5\u001b[0m         {\n\u001b[1;32m----> 6\u001b[0m             \u001b[39m\"\u001b[39m\u001b[39mlabel\u001b[39m\u001b[39m\"\u001b[39m: train\u001b[39m.\u001b[39mvalues[i][\u001b[39m0\u001b[39m],\n\u001b[0;32m      7\u001b[0m             \u001b[39m\"\u001b[39m\u001b[39mpoints\u001b[39m\u001b[39m\"\u001b[39m: [\n\u001b[0;32m      8\u001b[0m                 [\n\u001b[0;32m      9\u001b[0m                     x1\u001b[39m-\u001b[39mpt1_x,\n\u001b[0;32m     10\u001b[0m                     y1\u001b[39m-\u001b[39mpt1_y\n\u001b[0;32m     11\u001b[0m                 ],\n\u001b[0;32m     12\u001b[0m                 [\n\u001b[0;32m     13\u001b[0m                     x1\u001b[39m-\u001b[39mpt1_x\u001b[39m+\u001b[39m(x2\u001b[39m-\u001b[39mx1),\n\u001b[0;32m     14\u001b[0m                     y1\u001b[39m-\u001b[39mpt1_y\u001b[39m+\u001b[39m(y2\u001b[39m-\u001b[39my1)\n\u001b[0;32m     15\u001b[0m                 ]\n\u001b[0;32m     16\u001b[0m             ],\n\u001b[0;32m     17\u001b[0m             \u001b[39m\"\u001b[39m\u001b[39mgroup_id\u001b[39m\u001b[39m\"\u001b[39m: \u001b[39m\"\u001b[39m\u001b[39mnull\u001b[39m\u001b[39m\"\u001b[39m,\n\u001b[0;32m     18\u001b[0m             \u001b[39m\"\u001b[39m\u001b[39mshape_type\u001b[39m\u001b[39m\"\u001b[39m: \u001b[39m\"\u001b[39m\u001b[39mrectangle\u001b[39m\u001b[39m\"\u001b[39m,\n\u001b[0;32m     19\u001b[0m             \u001b[39m\"\u001b[39m\u001b[39mflags\u001b[39m\u001b[39m\"\u001b[39m: {}\n\u001b[0;32m     20\u001b[0m         }\n\u001b[0;32m     21\u001b[0m     ],\n\u001b[0;32m     22\u001b[0m     \u001b[39m\"\u001b[39m\u001b[39mimagePath\u001b[39m\u001b[39m\"\u001b[39m: \u001b[39mf\u001b[39m\u001b[39m\"\u001b[39m\u001b[39m{\u001b[39;00mimage\u001b[39m}\u001b[39;00m\u001b[39m-85.jpg\u001b[39m\u001b[39m\"\u001b[39m,\n\u001b[0;32m     23\u001b[0m     \u001b[39m\"\u001b[39m\u001b[39mimageData\u001b[39m\u001b[39m\"\u001b[39m: \u001b[39m\"\u001b[39m\u001b[39mnull\u001b[39m\u001b[39m\"\u001b[39m,\n\u001b[0;32m     24\u001b[0m     \u001b[39m\"\u001b[39m\u001b[39mimageHeight\u001b[39m\u001b[39m\"\u001b[39m: roi\u001b[39m.\u001b[39mshape[\u001b[39m0\u001b[39m],\n\u001b[0;32m     25\u001b[0m     \u001b[39m\"\u001b[39m\u001b[39mimageWidth\u001b[39m\u001b[39m\"\u001b[39m: roi\u001b[39m.\u001b[39mshape[\u001b[39m1\u001b[39m]\n\u001b[0;32m     26\u001b[0m }\n",
      "\u001b[1;31mNameError\u001b[0m: name 'i' is not defined"
     ]
    }
   ],
   "source": [
    "dict = {\n",
    "    \"version\": \"4.5.10\",\n",
    "    \"flags\": {},\n",
    "    \"shapes\": [\n",
    "        {\n",
    "            \"label\": train.values[i][1],\n",
    "            \"points\": [\n",
    "                [\n",
    "                    x1-pt1_x,\n",
    "                    y1-pt1_y\n",
    "                ],\n",
    "                [\n",
    "                    x1-pt1_x+(x2-x1),\n",
    "                    y1-pt1_y+(y2-y1)\n",
    "                ]\n",
    "            ],\n",
    "            \"group_id\": \"null\",\n",
    "            \"shape_type\": \"rectangle\",\n",
    "            \"flags\": {}\n",
    "        }\n",
    "    ],\n",
    "    \"imagePath\": f\"{image}-85.jpg\",\n",
    "    \"imageData\": \"null\",\n",
    "    \"imageHeight\": roi.shape[0],\n",
    "    \"imageWidth\": roi.shape[1]\n",
    "}\n"
   ]
  },
  {
   "cell_type": "code",
   "execution_count": 24,
   "metadata": {},
   "outputs": [],
   "source": [
    "import json\n",
    "with open(f\"./data_85/{}-85.json\", 'w') as f:\n",
    "    json.dump(dict,f,indent=4)"
   ]
  },
  {
   "cell_type": "code",
   "execution_count": 47,
   "metadata": {},
   "outputs": [
    {
     "name": "stdout",
     "output_type": "stream",
     "text": [
      "0.753875012743399\n",
      "0.7498543972044264\n",
      "0.7549035218505277\n",
      "0.7522012578616353\n",
      "0.7536989007817732\n",
      "0.7518814548720252\n",
      "0.7522188346883469\n",
      "0.7526217908980142\n",
      "0.7539777310148115\n",
      "0.750309405940594\n",
      "0.7505582137161084\n",
      "0.752129221732746\n",
      "0.7521389241846675\n",
      "0.7491872803181571\n",
      "0.7511197663096397\n",
      "0.7508103382920621\n",
      "0.7519976594436885\n",
      "0.7525864880087748\n",
      "0.7511623167360872\n",
      "0.752146256968603\n",
      "0.7502557442085626\n",
      "0.7508265203807677\n",
      "0.7514669977050247\n",
      "0.751580757752036\n",
      "0.7504129442480862\n",
      "0.751538046411225\n",
      "0.7511261543305509\n",
      "0.7503877499867079\n",
      "0.7515900310358269\n",
      "0.7523092077140857\n",
      "0.750975800156128\n",
      "0.7515151515151515\n",
      "0.7505582137161084\n",
      "0.7501571853720435\n",
      "0.7504191616766467\n",
      "0.7533579910453572\n",
      "0.7514191952968257\n",
      "0.750140056022409\n",
      "0.7516150158986284\n",
      "0.7517714285714285\n",
      "0.749694472383548\n",
      "0.7521452555652282\n",
      "0.752464616886286\n",
      "0.7519894491809422\n",
      "0.751980836557951\n",
      "0.7518477157768718\n",
      "0.7516872890888638\n",
      "0.7507598784194529\n",
      "0.7496298667520307\n",
      "0.7498300647012915\n",
      "0.7500994645962874\n",
      "0.7515837477559274\n",
      "0.7521244328578949\n",
      "0.7508401719421649\n",
      "0.7499006929425784\n",
      "0.7513224383566274\n",
      "0.7513193057341688\n",
      "0.7512942419440042\n",
      "0.7503271568413222\n",
      "0.7518958687040181\n",
      "0.7503653963184695\n",
      "0.7489562057919291\n",
      "0.7498872495328909\n",
      "0.7513169642857143\n",
      "0.7505264781523371\n",
      "0.7509695856297204\n",
      "0.7509568313306632\n",
      "0.750527302554488\n",
      "0.7494169796877503\n",
      "0.7506172839506173\n",
      "0.7509343146737482\n",
      "0.7523396098771\n",
      "0.7511189577273827\n",
      "0.7537647537647537\n",
      "0.7506334808133609\n",
      "0.7527076572969784\n",
      "0.7518349574953348\n",
      "0.7502196307964344\n",
      "0.7508120346284598\n",
      "0.7504508978748987\n",
      "0.7503328894806924\n",
      "0.7513548445047706\n",
      "0.751480407514804\n",
      "0.7496656834757538\n",
      "0.7509437909271112\n",
      "0.7499936497184708\n",
      "0.7513570063983989\n",
      "0.7501679186920017\n",
      "0.751654030603022\n",
      "0.7512711516737762\n",
      "0.7489610750661626\n",
      "0.7532602693173612\n",
      "0.7541555155975579\n",
      "0.7517764233685149\n",
      "0.7519838651914124\n",
      "0.753948381082458\n",
      "0.7513323800857923\n",
      "0.7519986558951598\n",
      "0.7516860143725815\n",
      "0.7525569163979302\n",
      "0.7503854506871799\n",
      "0.7500774698418513\n",
      "0.7484407484407485\n",
      "0.7518027015132537\n",
      "0.7497062279670975\n",
      "0.7502410714285714\n",
      "0.7493384524825929\n",
      "0.7509019266688842\n",
      "0.7528587588683003\n",
      "0.7513690822565345\n",
      "0.7528874454480868\n",
      "0.7534451115189598\n",
      "0.7517222747534783\n",
      "0.7522263588979896\n",
      "0.7519763873719248\n",
      "0.7518703784254024\n",
      "0.7512477205106056\n",
      "0.7502915461721504\n",
      "0.7517241379310344\n",
      "0.7498525736429755\n",
      "0.7537151329172844\n",
      "0.755454451452797\n",
      "0.7519306540583136\n",
      "0.7507430726453386\n",
      "0.7493383691979479\n",
      "0.7506430922518524\n",
      "0.7484420172209421\n",
      "0.7506795391525596\n",
      "0.7531578947368421\n",
      "0.7512538191041679\n",
      "0.7530434015525759\n",
      "0.7496118946760374\n",
      "0.7500759709914009\n",
      "0.7500422178440754\n",
      "0.75220881480724\n",
      "0.7511262199558955\n",
      "0.7512315270935961\n",
      "0.7524882903981265\n",
      "0.752876118490524\n",
      "0.748967977575809\n"
     ]
    }
   ],
   "source": [
    "imagePath = \"F:/reusable-trash-images/selectstar-reusable-trash-image/\"\n",
    "error_file = []\n",
    "for i in range(len(test.values)):\n",
    "    try:\n",
    "        x1,y1,x2,y2,dx,dy,image = make_points(test.values[i])\n",
    "        dx2, dy2 =ratio_cal(dx,dy,0.75)\n",
    "        delta_x =int((dx2-dx)/2)\n",
    "        delta_y =int((dy2-dy)/2)\n",
    "        pt1_x = x1-delta_x\n",
    "        pt1_y = y1-delta_y\n",
    "        pt2_x = x2+delta_x\n",
    "        pt2_y = y2+delta_y\n",
    "        if pt1_x <0:\n",
    "            pt1_x = x1-int(delta_x/2)\n",
    "            pt2_x = x2+int(delta_x/2)\n",
    "        if pt1_y <0:\n",
    "            pt1_y = y1-int(delta_y/2)\n",
    "            pt2_y = y2+int(delta_y/2)\n",
    "        path = imagePath + image +\".jpg\"\n",
    "        img = cv2.imread(path, cv2.IMREAD_COLOR)\n",
    "        roi = img[pt1_y:pt2_y,pt1_x:pt2_x]\n",
    "        print((dx*dy)/(roi.shape[0]*roi.shape[1]))\n",
    "        if ((dx*dy)/(roi.shape[0]*roi.shape[1])>=1):\n",
    "            error_file.append(image)\n",
    "        else:\n",
    "            cv2.imwrite(f\"./test/images/{image}-25.jpg\", roi)\n",
    "            dict = {\n",
    "                \"version\": \"4.5.10\",\n",
    "                \"flags\": {},\n",
    "                \"shapes\": [\n",
    "                            {\n",
    "                                \"label\": test.values[i][1],\n",
    "                                \"points\": [\n",
    "                                            [\n",
    "                                                x1-pt1_x,\n",
    "                                                y1-pt1_y\n",
    "                                            ],\n",
    "                                            [\n",
    "                                                    x1-pt1_x+(x2-x1),\n",
    "                                                    y1-pt1_y+(y2-y1)\n",
    "                                            ]\n",
    "                                ],\n",
    "                                \"group_id\": \"null\",\n",
    "                                \"shape_type\": \"rectangle\",\n",
    "                                \"flags\": {}\n",
    "                                }\n",
    "                            ],\n",
    "                \"imagePath\": f\"{image}-25.jpg\",\n",
    "                \"imageData\": \"null\",\n",
    "                \"imageHeight\": roi.shape[0],\n",
    "                \"imageWidth\": roi.shape[1]\n",
    "            }\n",
    "            with open(f\"./test/labels/{image}-25.json\", 'w') as f:\n",
    "                json.dump(dict,f,indent=4)\n",
    "    except:\n",
    "        error_file.append(image)\n"
   ]
  },
  {
   "cell_type": "code",
   "execution_count": 41,
   "metadata": {},
   "outputs": [
    {
     "data": {
      "text/plain": [
       "array([3404444, 'plastic', 1, 2268, 4032, 778, 1572, 1433, 2255, 4.89,\n",
       "       157, 151, 143], dtype=object)"
      ]
     },
     "execution_count": 41,
     "metadata": {},
     "output_type": "execute_result"
    }
   ],
   "source": [
    "train.values[0]"
   ]
  },
  {
   "cell_type": "code",
   "execution_count": 48,
   "metadata": {},
   "outputs": [],
   "source": [
    "imagePath = \"F:/reusable-trash-images/selectstar-reusable-trash-image/\"\n",
    "error_file = []\n",
    "for i in range(len(train.values)):\n",
    "    try:\n",
    "        x1,y1,x2,y2,dx,dy,image = make_points(train.values[i])\n",
    "        path = imagePath + image +\".jpg\"\n",
    "        img = cv2.imread(path, cv2.IMREAD_COLOR)\n",
    "        cv2.imwrite(f\"./test/images/{image}-100.jpg\", img)\n",
    "        dict = {\n",
    "            \"version\": \"4.5.10\",\n",
    "            \"flags\": {},\n",
    "            \"shapes\": [\n",
    "                        {\n",
    "                            \"label\": train.values[i][1],\n",
    "                            \"points\": [\n",
    "                                        [\n",
    "                                            x1,\n",
    "                                            y1\n",
    "                                        ],\n",
    "                                        [\n",
    "                                            x2,\n",
    "                                            y2\n",
    "                                        ]\n",
    "                            ],\n",
    "                            \"group_id\": \"null\",\n",
    "                            \"shape_type\": \"rectangle\",\n",
    "                            \"flags\": {}\n",
    "                            }\n",
    "                        ],\n",
    "            \"imagePath\": f\"{image}-100.jpg\",\n",
    "            \"imageData\": \"null\",\n",
    "            \"imageHeight\": test.values[i][4],\n",
    "            \"imageWidth\": test.values[i][3]\n",
    "        }\n",
    "        with open(f\"./test/labels/{image}-100.json\", 'w') as f:\n",
    "            json.dump(dict,f,indent=4)\n",
    "    except:\n",
    "        error_file.append(image)\n"
   ]
  }
 ],
 "metadata": {
  "kernelspec": {
   "display_name": "Python 3",
   "language": "python",
   "name": "python3"
  },
  "language_info": {
   "codemirror_mode": {
    "name": "ipython",
    "version": 3
   },
   "file_extension": ".py",
   "mimetype": "text/x-python",
   "name": "python",
   "nbconvert_exporter": "python",
   "pygments_lexer": "ipython3",
   "version": "3.11.1"
  },
  "orig_nbformat": 4
 },
 "nbformat": 4,
 "nbformat_minor": 2
}
